{
 "cells": [
  {
   "cell_type": "markdown",
   "metadata": {
    "id": "rd2QZetSDszc"
   },
   "source": [
    "## DATA602: Assignment 8\n",
    "### Gabriel Santos\n",
    "\n",
    "# **Weeks 10 & 11 - matplotlib & seaborn**\n",
    "* In this homework assignment, you will explore and analyze a public dataset of your choosing. Since this assignment is “open-ended” in nature, you are free to expand upon the requirements below. However, you must meet the minimum requirments as indicated in each section. \n",
    "\n",
    "\n",
    "* The preferred method for this analysis is in a .ipynb file. Feel free to use whichever platform of your choosing.  \n",
    "\n",
    "\n",
    "### **Some data examples:**\n",
    "•\thttps://www.data.gov/\n",
    "\n",
    "•\thttps://opendata.cityofnewyork.us/\n",
    "\n",
    "•\thttps://datasetsearch.research.google.com/\n",
    "\n",
    "•\thttps://archive.ics.uci.edu/ml/index.php\n",
    "\n",
    "### **Resources:**\n",
    "\n",
    "•\thttps://pandas.pydata.org/pandas-docs/stable/getting_started/10min.html \n",
    "\n",
    "•\thttps://www.oreilly.com/library/view/python-data-science/9781491912126/ch04.html\n",
    "\n",
    "•\thttps://www.data-to-viz.com/\n",
    "\n",
    "\n",
    "\n",
    "### **Headings or comments**\n",
    "**You are required to make use of comments, or headings for each section.  You must explain what your code is doing, and the results of running your code.**  Act as if you were giving this assignment to your manager - you must include clear and descriptive information for each section.\n",
    "\n",
    "### **You may work as a group or indivdually on this assignment.**\n"
   ]
  },
  {
   "cell_type": "markdown",
   "metadata": {
    "id": "view-in-github"
   },
   "source": [
    "<a href=\"https://colab.research.google.com/github/data602sps/assignments/blob/master/05_assignment.ipynb\" target=\"_parent\"><img src=\"https://colab.research.google.com/assets/colab-badge.svg\" alt=\"Open In Colab\"/></a>"
   ]
  },
  {
   "cell_type": "markdown",
   "metadata": {
    "id": "uW3w6p8rqgxu"
   },
   "source": [
    "# Introduction\n",
    "\n",
    "In this section, please describe the dataset you are using.  Include a link to the source of this data.  You should also provide some explanation on why you choose this dataset."
   ]
  },
  {
   "cell_type": "markdown",
   "metadata": {
    "id": "L0PnfMOFzOXz"
   },
   "source": [
    "I have chose to work with UFO sightings data. The data is from here: https://data.world/ck30/ufo-data-nuforc Since the government has admitted the existence of UFOs the subject has been a very fun and interesting topic of discussion with my wife and friends. Let's see what we can find out."
   ]
  },
  {
   "cell_type": "markdown",
   "metadata": {
    "id": "3bp8cdDxDs2t"
   },
   "source": [
    "______________\n",
    "# Data Exploration\n",
    "Import your dataset into your .ipynb, create dataframes, and explore your data.  \n",
    "\n",
    "Include: \n",
    "\n",
    "* Summary statistics means, medians, quartiles, \n",
    "* Missing value information\n",
    "* Any other relevant information about the dataset.  \n",
    "\n"
   ]
  },
  {
   "cell_type": "code",
   "execution_count": 1,
   "metadata": {},
   "outputs": [],
   "source": [
    "import pandas as pd\n",
    "import seaborn as sns\n",
    "import matplotlib.pyplot as plt\n",
    "import numpy as np"
   ]
  },
  {
   "cell_type": "markdown",
   "metadata": {
    "id": "3NUlO_ru1WqR"
   },
   "source": [
    "### Load data"
   ]
  },
  {
   "cell_type": "code",
   "execution_count": 4,
   "metadata": {},
   "outputs": [],
   "source": [
    "ufo_df = pd.read_csv(\"https://raw.githubusercontent.com/GabrielSantos33/DATA602_HW8/main/ufo_data_nu.csv\")"
   ]
  },
  {
   "cell_type": "code",
   "execution_count": 28,
   "metadata": {},
   "outputs": [],
   "source": [
    "shape = ufo_df.shape"
   ]
  },
  {
   "cell_type": "code",
   "execution_count": 29,
   "metadata": {},
   "outputs": [
    {
     "name": "stdout",
     "output_type": "stream",
     "text": [
      "\n",
      "DataFrame Shape : (111774, 8)\n",
      "\n",
      "Number of rows : 111774\n",
      "\n",
      "Number of columns : 8\n"
     ]
    }
   ],
   "source": [
    "print('\\nDataFrame Shape :', shape)\n",
    "print('\\nNumber of rows :', shape[0])\n",
    "print('\\nNumber of columns :', shape[1])"
   ]
  },
  {
   "cell_type": "code",
   "execution_count": 5,
   "metadata": {},
   "outputs": [
    {
     "name": "stdout",
     "output_type": "stream",
     "text": [
      "     posted      date   time                       city state     shape  \\\n",
      "0  11/15/21  11/14/21  20:33                West Jordan    UT     Light   \n",
      "1  11/15/21  11/13/21  19:45                      Hemet    CA     Light   \n",
      "2  11/15/21  11/13/21  16:34                    Dunedin    FL     Flash   \n",
      "3  11/15/21  11/13/21  16:00  Yonkers (Westchester Co.)    NY     Light   \n",
      "4  11/15/21  11/12/21  20:15                 West Hills    CA  Fireball   \n",
      "\n",
      "          duration                                            summary  \n",
      "0            5 min  flashing green light zig zagging across the sk...  \n",
      "1        3 minutes  Amber/Orange sphere witness at evening outdoor...  \n",
      "2        7 seconds       Plusating White Light coming back from Beach  \n",
      "3  Several seconds  Fast moving, small, bright green light sped ac...  \n",
      "4       10 minutes  Multiple fast traveling fireballs in the night...  \n"
     ]
    }
   ],
   "source": [
    "print(ufo_df.head())"
   ]
  },
  {
   "cell_type": "markdown",
   "metadata": {},
   "source": [
    "## Data Exploration\n",
    "\n",
    "Summary statistics. Look at for NAs, if there are any then we will decide how to handle them."
   ]
  },
  {
   "cell_type": "code",
   "execution_count": 6,
   "metadata": {},
   "outputs": [
    {
     "name": "stdout",
     "output_type": "stream",
     "text": [
      "0\n",
      "0\n",
      "0\n",
      "0\n",
      "0\n",
      "0\n",
      "0\n",
      "0\n"
     ]
    }
   ],
   "source": [
    "print(ufo_df[\"posted\"].isna().sum())\n",
    "print(ufo_df[\"date\"].isna().sum())\n",
    "print(ufo_df[\"time\"].isna().sum())\n",
    "print(ufo_df[\"city\"].isna().sum())\n",
    "print(ufo_df[\"state\"].isna().sum())\n",
    "print(ufo_df[\"shape\"].isna().sum())\n",
    "print(ufo_df[\"duration\"].isna().sum())\n",
    "print(ufo_df[\"summary\"].isna().sum())"
   ]
  },
  {
   "cell_type": "markdown",
   "metadata": {},
   "source": [
    "## There is no missing data"
   ]
  },
  {
   "cell_type": "code",
   "execution_count": 7,
   "metadata": {},
   "outputs": [
    {
     "data": {
      "text/html": [
       "<div>\n",
       "<style scoped>\n",
       "    .dataframe tbody tr th:only-of-type {\n",
       "        vertical-align: middle;\n",
       "    }\n",
       "\n",
       "    .dataframe tbody tr th {\n",
       "        vertical-align: top;\n",
       "    }\n",
       "\n",
       "    .dataframe thead th {\n",
       "        text-align: right;\n",
       "    }\n",
       "</style>\n",
       "<table border=\"1\" class=\"dataframe\">\n",
       "  <thead>\n",
       "    <tr style=\"text-align: right;\">\n",
       "      <th></th>\n",
       "      <th>posted</th>\n",
       "      <th>date</th>\n",
       "      <th>time</th>\n",
       "      <th>city</th>\n",
       "      <th>state</th>\n",
       "      <th>shape</th>\n",
       "      <th>duration</th>\n",
       "      <th>summary</th>\n",
       "    </tr>\n",
       "  </thead>\n",
       "  <tbody>\n",
       "    <tr>\n",
       "      <th>count</th>\n",
       "      <td>111774</td>\n",
       "      <td>111774</td>\n",
       "      <td>111774</td>\n",
       "      <td>111774</td>\n",
       "      <td>111774</td>\n",
       "      <td>111774</td>\n",
       "      <td>111774</td>\n",
       "      <td>111774</td>\n",
       "    </tr>\n",
       "    <tr>\n",
       "      <th>unique</th>\n",
       "      <td>607</td>\n",
       "      <td>13211</td>\n",
       "      <td>1431</td>\n",
       "      <td>20109</td>\n",
       "      <td>50</td>\n",
       "      <td>44</td>\n",
       "      <td>10957</td>\n",
       "      <td>111198</td>\n",
       "    </tr>\n",
       "    <tr>\n",
       "      <th>top</th>\n",
       "      <td>6/25/20</td>\n",
       "      <td>11/7/15</td>\n",
       "      <td>22:00</td>\n",
       "      <td>Phoenix</td>\n",
       "      <td>CA</td>\n",
       "      <td>Light</td>\n",
       "      <td>5 minutes</td>\n",
       "      <td>((NUFORC Note: No information provided by witn...</td>\n",
       "    </tr>\n",
       "    <tr>\n",
       "      <th>freq</th>\n",
       "      <td>1450</td>\n",
       "      <td>272</td>\n",
       "      <td>6373</td>\n",
       "      <td>688</td>\n",
       "      <td>14074</td>\n",
       "      <td>24039</td>\n",
       "      <td>7534</td>\n",
       "      <td>29</td>\n",
       "    </tr>\n",
       "  </tbody>\n",
       "</table>\n",
       "</div>"
      ],
      "text/plain": [
       "         posted     date    time     city   state   shape   duration  \\\n",
       "count    111774   111774  111774   111774  111774  111774     111774   \n",
       "unique      607    13211    1431    20109      50      44      10957   \n",
       "top     6/25/20  11/7/15   22:00  Phoenix      CA   Light  5 minutes   \n",
       "freq       1450      272    6373      688   14074   24039       7534   \n",
       "\n",
       "                                                  summary  \n",
       "count                                              111774  \n",
       "unique                                             111198  \n",
       "top     ((NUFORC Note: No information provided by witn...  \n",
       "freq                                                   29  "
      ]
     },
     "execution_count": 7,
     "metadata": {},
     "output_type": "execute_result"
    }
   ],
   "source": [
    "ufo_df.describe()"
   ]
  },
  {
   "cell_type": "markdown",
   "metadata": {},
   "source": [
    "The most popular time for seeing a UFO is 10PM. \n",
    "\n",
    "Phoenix is the city that sees the most UFOs \n",
    "California is the state that sees the most UFOs."
   ]
  },
  {
   "cell_type": "markdown",
   "metadata": {
    "id": "kCSLIafaEGVK"
   },
   "source": [
    "# Data Wrangling\n",
    "\n",
    "Perform data wrangling.  You are free to use your best judgment here.  If you are stuck, look at previous assignment."
   ]
  },
  {
   "cell_type": "markdown",
   "metadata": {},
   "source": [
    "Change the time data to just hours, by flooring the column.\n",
    "Change the duration column.\n",
    "Reduce the amount of unique values, hours, minutes, seconds."
   ]
  },
  {
   "cell_type": "code",
   "execution_count": 8,
   "metadata": {
    "id": "xEkLsm7g1UiZ"
   },
   "outputs": [],
   "source": [
    "ufo_hour = ufo_df[ufo_df.duration.str.contains(\"hour\")]\n",
    "ufo_min = ufo_df[ufo_df.duration.str.contains(\"min\")]\n",
    "ufo_sec = ufo_df[ufo_df.duration.str.contains(\"sec\")]"
   ]
  },
  {
   "cell_type": "code",
   "execution_count": 9,
   "metadata": {},
   "outputs": [
    {
     "name": "stderr",
     "output_type": "stream",
     "text": [
      "C:\\Users\\jzw1jlf\\AppData\\Local\\Temp\\ipykernel_20664\\2313675573.py:1: SettingWithCopyWarning: \n",
      "A value is trying to be set on a copy of a slice from a DataFrame.\n",
      "Try using .loc[row_indexer,col_indexer] = value instead\n",
      "\n",
      "See the caveats in the documentation: https://pandas.pydata.org/pandas-docs/stable/user_guide/indexing.html#returning-a-view-versus-a-copy\n",
      "  ufo_hour.duration = \"hours\"\n",
      "C:\\Users\\jzw1jlf\\AppData\\Local\\Temp\\ipykernel_20664\\2313675573.py:2: SettingWithCopyWarning: \n",
      "A value is trying to be set on a copy of a slice from a DataFrame.\n",
      "Try using .loc[row_indexer,col_indexer] = value instead\n",
      "\n",
      "See the caveats in the documentation: https://pandas.pydata.org/pandas-docs/stable/user_guide/indexing.html#returning-a-view-versus-a-copy\n",
      "  ufo_min.duration = \"minutes\"\n",
      "C:\\Users\\jzw1jlf\\AppData\\Local\\Temp\\ipykernel_20664\\2313675573.py:3: SettingWithCopyWarning: \n",
      "A value is trying to be set on a copy of a slice from a DataFrame.\n",
      "Try using .loc[row_indexer,col_indexer] = value instead\n",
      "\n",
      "See the caveats in the documentation: https://pandas.pydata.org/pandas-docs/stable/user_guide/indexing.html#returning-a-view-versus-a-copy\n",
      "  ufo_sec.duration = \"seconds\"\n"
     ]
    }
   ],
   "source": [
    "ufo_hour.duration = \"hours\"\n",
    "ufo_min.duration = \"minutes\"\n",
    "ufo_sec.duration = \"seconds\""
   ]
  },
  {
   "cell_type": "markdown",
   "metadata": {},
   "source": [
    "I have now turned duration into either the option of hours long, minutes long, or seconds long. Anything that did not fit into the category will be dropped such as values like \"unkown\" or \"currently happening\". All that is left is to combine the new dfs."
   ]
  },
  {
   "cell_type": "code",
   "execution_count": 10,
   "metadata": {},
   "outputs": [
    {
     "name": "stdout",
     "output_type": "stream",
     "text": [
      "      posted      date   time      city state     shape duration  \\\n",
      "31  11/15/21   11/7/21  02:00   Holland    MI      Cone    hours   \n",
      "32  11/15/21   11/6/21  22:15    Albany    OR     Light    hours   \n",
      "47  11/15/21   11/4/21  19:00  St. Paul    NE  Triangle    hours   \n",
      "51  11/15/21   11/2/21  17:00   Trenton    NJ    Circle    hours   \n",
      "68  11/15/21  10/29/21  22:00    Edison    NJ  Changing    hours   \n",
      "\n",
      "                                              summary  \n",
      "31  Hi I'm ((name deleted)) 28 from holland I have...  \n",
      "32                   Red flashing lights above Albany  \n",
      "47  At dusk large triangle shaped object holding s...  \n",
      "51  Several have been just sitting and I think the...  \n",
      "68  now this is not a joke for at about 10 o'clock...  \n"
     ]
    }
   ],
   "source": [
    "ufo_better = pd.concat([ufo_hour, ufo_min, ufo_sec])\n",
    "print(ufo_better.head())"
   ]
  },
  {
   "cell_type": "code",
   "execution_count": 11,
   "metadata": {},
   "outputs": [],
   "source": [
    "ufo_better['time'] = ufo_better['time'].str[:2]\n",
    "ufo_better['time'] = pd.to_numeric(ufo_better['time'])"
   ]
  },
  {
   "cell_type": "markdown",
   "metadata": {},
   "source": [
    "The column \"shape\" also has a lot of unique values. I think the best way to handle this is to only keep the top 5 or 10 most frequented shapes and drop the rest. This will allow us to make some interesting visualizations."
   ]
  },
  {
   "cell_type": "code",
   "execution_count": 12,
   "metadata": {},
   "outputs": [
    {
     "data": {
      "text/plain": [
       "Light        21454\n",
       "Circle       10766\n",
       "Triangle      9496\n",
       "Fireball      7759\n",
       "Sphere        6946\n",
       "Other         6834\n",
       "Unknown       6818\n",
       "Disk          5720\n",
       "Oval          4418\n",
       "Formation     3579\n",
       "Cigar         2503\n",
       "Changing      2492\n",
       "Rectangle     1828\n",
       "Flash         1777\n",
       "Cylinder      1629\n",
       "Diamond       1440\n",
       "Chevron       1269\n",
       "Teardrop       883\n",
       "Egg            840\n",
       "Cone           369\n",
       "Cross          322\n",
       "light           51\n",
       "other           16\n",
       "triangle        15\n",
       "circle           7\n",
       "Delta            5\n",
       "sphere           4\n",
       "cylinder         4\n",
       "rectangle        3\n",
       "Round            2\n",
       "cigar            2\n",
       "oval             2\n",
       "diamond          2\n",
       "fireball         1\n",
       "flash            1\n",
       "Flare            1\n",
       "egg              1\n",
       "changed          1\n",
       "pyramid          1\n",
       "Hexagon          1\n",
       "changing         1\n",
       "unknown          1\n",
       "delta            1\n",
       "Crescent         1\n",
       "Name: shape, dtype: int64"
      ]
     },
     "execution_count": 12,
     "metadata": {},
     "output_type": "execute_result"
    }
   ],
   "source": [
    "ufo_better[\"shape\"].value_counts()"
   ]
  },
  {
   "cell_type": "markdown",
   "metadata": {},
   "source": [
    "Here we see that the top 5 most common instances are light, circle, triangle, fireball, and sphere. Now we will pull out all of the \"light\"s and \"Light\"s. Another thing we should be mindful of is that some of these shape names might actually be describing the same shape. For example, maybe in some areas the people will call the UFO cigar shaped, while in another area, while looking at the same UFO, this group calls it Cylinder shape. For the sake of this assignment I will not worry about these and just simply disregard them."
   ]
  },
  {
   "cell_type": "code",
   "execution_count": 13,
   "metadata": {},
   "outputs": [],
   "source": [
    "ufo_light = ufo_better[ufo_better[\"shape\"].str.contains(\"light|Light\")]\n",
    "ufo_circle = ufo_better[ufo_better[\"shape\"].str.contains(\"circle|Circle\")]\n",
    "ufo_triangle = ufo_better[ufo_better[\"shape\"].str.contains(\"triangle|Triangle\")]\n",
    "ufo_fireball = ufo_better[ufo_better['shape'].str.contains(\"fireball|Fireball\")]\n",
    "ufo_sphere = ufo_better[ufo_better[\"shape\"].str.contains(\"sphere|Sphere\")]"
   ]
  },
  {
   "cell_type": "code",
   "execution_count": 14,
   "metadata": {},
   "outputs": [
    {
     "name": "stderr",
     "output_type": "stream",
     "text": [
      "C:\\Users\\jzw1jlf\\AppData\\Local\\Temp\\ipykernel_20664\\3547839748.py:1: SettingWithCopyWarning: \n",
      "A value is trying to be set on a copy of a slice from a DataFrame.\n",
      "Try using .loc[row_indexer,col_indexer] = value instead\n",
      "\n",
      "See the caveats in the documentation: https://pandas.pydata.org/pandas-docs/stable/user_guide/indexing.html#returning-a-view-versus-a-copy\n",
      "  ufo_light[\"shape\"] = \"light\"\n",
      "C:\\Users\\jzw1jlf\\AppData\\Local\\Temp\\ipykernel_20664\\3547839748.py:2: SettingWithCopyWarning: \n",
      "A value is trying to be set on a copy of a slice from a DataFrame.\n",
      "Try using .loc[row_indexer,col_indexer] = value instead\n",
      "\n",
      "See the caveats in the documentation: https://pandas.pydata.org/pandas-docs/stable/user_guide/indexing.html#returning-a-view-versus-a-copy\n",
      "  ufo_circle[\"shape\"] = \"circle\"\n",
      "C:\\Users\\jzw1jlf\\AppData\\Local\\Temp\\ipykernel_20664\\3547839748.py:3: SettingWithCopyWarning: \n",
      "A value is trying to be set on a copy of a slice from a DataFrame.\n",
      "Try using .loc[row_indexer,col_indexer] = value instead\n",
      "\n",
      "See the caveats in the documentation: https://pandas.pydata.org/pandas-docs/stable/user_guide/indexing.html#returning-a-view-versus-a-copy\n",
      "  ufo_triangle[\"shape\"] = \"triangle\"\n",
      "C:\\Users\\jzw1jlf\\AppData\\Local\\Temp\\ipykernel_20664\\3547839748.py:4: SettingWithCopyWarning: \n",
      "A value is trying to be set on a copy of a slice from a DataFrame.\n",
      "Try using .loc[row_indexer,col_indexer] = value instead\n",
      "\n",
      "See the caveats in the documentation: https://pandas.pydata.org/pandas-docs/stable/user_guide/indexing.html#returning-a-view-versus-a-copy\n",
      "  ufo_fireball[\"shape\"] = \"fireball\"\n",
      "C:\\Users\\jzw1jlf\\AppData\\Local\\Temp\\ipykernel_20664\\3547839748.py:5: SettingWithCopyWarning: \n",
      "A value is trying to be set on a copy of a slice from a DataFrame.\n",
      "Try using .loc[row_indexer,col_indexer] = value instead\n",
      "\n",
      "See the caveats in the documentation: https://pandas.pydata.org/pandas-docs/stable/user_guide/indexing.html#returning-a-view-versus-a-copy\n",
      "  ufo_sphere[\"shape\"] = \"sphere\"\n"
     ]
    }
   ],
   "source": [
    "ufo_light[\"shape\"] = \"light\"\n",
    "ufo_circle[\"shape\"] = \"circle\"\n",
    "ufo_triangle[\"shape\"] = \"triangle\"\n",
    "ufo_fireball[\"shape\"] = \"fireball\"\n",
    "ufo_sphere[\"shape\"] = \"sphere\""
   ]
  },
  {
   "cell_type": "code",
   "execution_count": 26,
   "metadata": {},
   "outputs": [
    {
     "name": "stdout",
     "output_type": "stream",
     "text": [
      "          posted      date  time                 city state   shape duration  \\\n",
      "32      11/15/21   11/6/21    22               Albany    OR   light    hours   \n",
      "96      11/15/21  10/23/21     3              Garland    TX   light    hours   \n",
      "130     11/15/21   11/1/21    21  Indianapolis (near)    TN   light    hours   \n",
      "139     10/26/21  10/24/21    12              Clifton    NJ   light    hours   \n",
      "179     10/19/21  10/19/21     0          Southampton    PA   light    hours   \n",
      "...          ...       ...   ...                  ...   ...     ...      ...   \n",
      "111609    3/7/98    4/2/97    20              Lebanon    MO  sphere  seconds   \n",
      "111649    3/7/98   2/25/97     2         Crystal Lake    IL  sphere  seconds   \n",
      "111659    3/7/98   1/18/97    22    Las Vegas (SE of)    NV  sphere  seconds   \n",
      "111677    3/7/98  12/17/96    20              Sunrise    FL  sphere  seconds   \n",
      "111687    3/7/98   11/7/96    23              Seattle    WA  sphere  seconds   \n",
      "\n",
      "                                                  summary  \n",
      "32                       Red flashing lights above Albany  \n",
      "96                   Early morning site & short encounter  \n",
      "130     While operating a flight New York to San Franc...  \n",
      "139              Triangular shape in sky made with 5 ufos  \n",
      "179                                            Lights UFO  \n",
      "...                                                   ...  \n",
      "111609  A giant red ball of light( about 5 time the si...  \n",
      "111649  I was laying on the sofa looking out the windo...  \n",
      "111659  Luminous sphere (white) travelling due west at...  \n",
      "111677  We saw a comet like shape heading west to east...  \n",
      "111687  Dimly lit group of colored objects hovering ov...  \n",
      "\n",
      "[56499 rows x 8 columns]\n"
     ]
    }
   ],
   "source": [
    "df_ufo = pd.concat([ufo_light,ufo_circle,ufo_triangle,ufo_fireball,ufo_sphere])\n",
    "print(df_ufo)"
   ]
  },
  {
   "cell_type": "code",
   "execution_count": 17,
   "metadata": {},
   "outputs": [],
   "source": [
    "south = ['OK','TX','AR','LA','KY','TN','MS','AL','WV','MD','DE','VA','NC','SC','GA','FL']\n",
    "northeast = ['ME','NH','VT','MA','NY','CT','RI','PA','NJ']\n",
    "midwest = ['ND','SD','NE','KS','MN','IA','MO','WI','IL','IN','MI','OH']\n",
    "west = ['WA','OR','CA','AK','HI','ID','NV','MT','WY','UT','AZ','CO','NM']\n",
    "\n",
    "regions = {'OK':'south',\n",
    "          'TX':'south',\n",
    "          'AR':'south',\n",
    "          'LA':'south',\n",
    "          'KY':'south',\n",
    "          'TN':'south',\n",
    "          'MS':'south',\n",
    "          'AL':'south',\n",
    "          'WV':'south',\n",
    "          'MD':'south',\n",
    "          'DE':'south',\n",
    "          'VA':'south',\n",
    "          'NC':'south',\n",
    "          'SC':'south',\n",
    "          'GA':'south',\n",
    "          'FL':'south',\n",
    "          'ME':'northeast',\n",
    "          'NH':'northeast',\n",
    "          'VT':'northeast',\n",
    "          'MA':'northeast',\n",
    "          'NY':'northeast',\n",
    "          'CT':'northeast',\n",
    "          'RI':'northeast',\n",
    "          'PA':'northeast',\n",
    "          'NJ':'northeast',\n",
    "          'ND':'midwest',\n",
    "          'SD':'midwest',\n",
    "          'NE':'midwest',\n",
    "          'KS':'midwest',\n",
    "          'MN':'midwest',\n",
    "          'IA':'midwest',\n",
    "          'MO':'midwest',\n",
    "          'WI':'midwest',\n",
    "          'IL':'midwest',\n",
    "          'IN':'midwest',\n",
    "          'MI':'midwest',\n",
    "          'OH':'midwest',\n",
    "          'WA':'west',\n",
    "          'OR':'west',\n",
    "          'CA':'west',\n",
    "          'AK':'west',\n",
    "          'HI':'west',\n",
    "          'ID':'west',\n",
    "          'NV':'west',\n",
    "          'MT':'west',\n",
    "          'WY':'west',\n",
    "          'UT':'west',\n",
    "          'AZ':'west',\n",
    "          'CO':'west',\n",
    "          'NM':'west'}\n",
    "def get_region(state):\n",
    "    return regions[state]\n",
    "\n",
    "df_ufo['region'] = df_ufo['state'].apply(get_region)"
   ]
  },
  {
   "cell_type": "markdown",
   "metadata": {
    "id": "uJdF3TMe_TXU"
   },
   "source": [
    "# Visualizations\n",
    "\n",
    "The main purpose of this assignment is to practice creating various visualizations using the matplotlib and seaborn library.\n",
    "\n",
    "### **Part 1:**\n",
    "Using matplotlib, create ***two or more plots*** that incorporate at least **5** of the following properties:\n",
    "\n",
    "Note: these properties vary based on your data.  The goal is to practice creating visualizations and modifying its properties. \n",
    "\n",
    "*   Use and change a legend position\n",
    "*   Change a legend font size\n",
    "*   Place a legend outside of the plot\n",
    "*   Create a single legend for all subplots\n",
    "*   Change the title and x/y labels\n",
    "*   Change the marker, line colors, and line width\n",
    "*   Add annotations\n",
    "*   Modify Axis Text Ticks/Labels\n",
    "*   Change size of axis Labels\n",
    "*   Your own choice not included above \n",
    "\n",
    "\n",
    "Plots that you can create **include**:\n",
    "\n",
    "*   Scatter Plot\n",
    "*   Bar plot\n",
    "*   Line Chart\n",
    "*   Multi Plots (e.g. using .subplot()\n",
    "*   Histogram\n",
    "\n",
    "You can add another plot not listed here if it works better for your data.  This is not a complete list of plots to create.\n",
    "\n",
    "### **Part 2:**\n",
    "\n",
    "Recreate the visualizations above using the Seaborn library as best as possible.  \n",
    "\n",
    "\n",
    "**You are required to explain what each of your plots is representing. Plots without comments will not be accepted.**  In addition, please explain the properties you are showcasing.\n",
    "\n",
    "\n",
    "### **Part 3:**\n",
    "In a comment or text box, explain the differences between creating a plot in matplotlib and seaborn, based on your above plots.\n",
    "\n"
   ]
  },
  {
   "cell_type": "code",
   "execution_count": 24,
   "metadata": {
    "id": "4VWWvvynEiQT"
   },
   "outputs": [
    {
     "name": "stdout",
     "output_type": "stream",
     "text": [
      "region     shape   \n",
      "midwest    circle      2018\n",
      "           fireball    1578\n",
      "           light       4423\n",
      "           sphere      1350\n",
      "           triangle    2146\n",
      "northeast  circle      1996\n",
      "           fireball    1385\n",
      "           light       3374\n",
      "           sphere      1143\n",
      "           triangle    1577\n",
      "south      circle      3279\n",
      "           fireball    2257\n",
      "           light       6070\n",
      "           sphere      2051\n",
      "           triangle    2937\n",
      "west       circle      3480\n",
      "           fireball    2540\n",
      "           light       7638\n",
      "           sphere      2406\n",
      "           triangle    2851\n",
      "Name: summary, dtype: int64\n"
     ]
    }
   ],
   "source": [
    "df_region =df_ufo.groupby(['region','shape'])['summary'].count()\n",
    "print(df_region)"
   ]
  },
  {
   "cell_type": "code",
   "execution_count": 25,
   "metadata": {
    "id": "N9sKmrIrDbhd"
   },
   "outputs": [
    {
     "data": {
      "text/plain": [
       "<matplotlib.legend.Legend at 0x2d5c194faf0>"
      ]
     },
     "execution_count": 25,
     "metadata": {},
     "output_type": "execute_result"
    },
    {
     "data": {
      "image/png": "[encoded data removed]",
      "text/plain": [
       "<Figure size 1080x504 with 1 Axes>"
      ]
     },
     "metadata": {
      "needs_background": "light"
     },
     "output_type": "display_data"
    }
   ],
   "source": [
    "fig, ax = plt.subplots(figsize=(15,7))\n",
    "\n",
    "df_ufo.groupby(['shape','region']).count()['summary'].unstack().plot(ax=ax, kind='barh', title='Sightings by UFO Shape', ylabel='amount of sightings')\n",
    "ax.legend(loc=4,fontsize='x-large',edgecolor='deeppink', facecolor='gainsboro', title=\"regions\")"
   ]
  },
  {
   "cell_type": "markdown",
   "metadata": {},
   "source": [
    "The plot shows the amount of sightings for each region, given a particular UFO shape. From observing the graph we can notice that triangle shaped UFOs are their most popular sightings. This is the only region where the shape 'light' is not the most popular."
   ]
  },
  {
   "cell_type": "code",
   "execution_count": 20,
   "metadata": {},
   "outputs": [
    {
     "data": {
      "text/plain": [
       "Text(0.5, 0, 'hour')"
      ]
     },
     "execution_count": 20,
     "metadata": {},
     "output_type": "execute_result"
    },
    {
     "data": {
      "image/png": "[encoded data removed]",
      "text/plain": [
       "<Figure size 1080x504 with 1 Axes>"
      ]
     },
     "metadata": {
      "needs_background": "light"
     },
     "output_type": "display_data"
    }
   ],
   "source": [
    "fig, ax = plt.subplots(figsize = (15,7))\n",
    "\n",
    "df_ufo.groupby(['time', 'shape']).count()['summary'].unstack().plot(ax=ax, title=\"UFO sightings by Time of Day\")\n",
    "ax.legend(loc=0,fontsize='large',shadow=True,facecolor='whitesmoke')\n",
    "ax.set_title('UFO Sightings by Time of Day', size=30)\n",
    "ax.set_ylabel('amount of sightings', size=20)\n",
    "ax.set_xlabel('hour', size=20)"
   ]
  },
  {
   "cell_type": "markdown",
   "metadata": {},
   "source": [
    "This plot displays the number of UFO sightings for each hour in a day. It also shows how each UFO shape compares to each other. One thing in particular stands out. We can see that from noon until about 6PM that sphere and circle shaped UFOs are seen more than light shaped UFOs."
   ]
  },
  {
   "cell_type": "markdown",
   "metadata": {},
   "source": [
    "## Seaborn"
   ]
  },
  {
   "cell_type": "code",
   "execution_count": 21,
   "metadata": {},
   "outputs": [
    {
     "data": {
      "text/plain": [
       "Text(0.5, 1.0, 'UFO Shape Sightings')"
      ]
     },
     "execution_count": 21,
     "metadata": {},
     "output_type": "execute_result"
    },
    {
     "data": {
      "image/png": "[encoded data removed]",
      "text/plain": [
       "<Figure size 1080x504 with 1 Axes>"
      ]
     },
     "metadata": {
      "needs_background": "light"
     },
     "output_type": "display_data"
    }
   ],
   "source": [
    "plt.figure(figsize =(15,7))\n",
    "sns.countplot(data=df_ufo, y='shape', hue='region')\n",
    "sns.despine()\n",
    "plt.legend(fontsize='xx-large',shadow=True)\n",
    "plt.xlabel(\"Amount\", size=20)\n",
    "plt.ylabel(\"UFO Shape\", size =20)\n",
    "plt.title(\"UFO Shape Sightings\", size=30)"
   ]
  },
  {
   "cell_type": "markdown",
   "metadata": {},
   "source": [
    "This is the same plot I created earlier but I used Seaborn this time. The plot is measuring the sightings for each UFO Shape and which region the sighting took place."
   ]
  },
  {
   "cell_type": "code",
   "execution_count": 22,
   "metadata": {},
   "outputs": [
    {
     "data": {
      "text/plain": [
       "Text(0.5, 1.0, 'UFO Sightings Throughout a day')"
      ]
     },
     "execution_count": 22,
     "metadata": {},
     "output_type": "execute_result"
    },
    {
     "data": {
      "image/png": "[encoded data removed]",
      "text/plain": [
       "<Figure size 720x1440 with 1 Axes>"
      ]
     },
     "metadata": {
      "needs_background": "light"
     },
     "output_type": "display_data"
    }
   ],
   "source": [
    "plt.figure(figsize=(10,20))\n",
    "sns.countplot(data=df_ufo, y='time', hue='shape')\n",
    "sns.despine()\n",
    "plt.legend(title='UFO Shape', fontsize='x-large', shadow=True)\n",
    "plt.ylabel(\"Hour(Out of a Day)\", size=20)\n",
    "plt.xlabel(\"Amount of Sightings\", size=20)\n",
    "plt.title(\"UFO Sightings Throughout a day\", size=30)"
   ]
  },
  {
   "cell_type": "markdown",
   "metadata": {},
   "source": [
    "This plot allows the viewer to pick an hour of the day, and see how many sightings have occured at that hour for a specific shape of UFO."
   ]
  },
  {
   "cell_type": "code",
   "execution_count": null,
   "metadata": {},
   "outputs": [],
   "source": []
  },
  {
   "cell_type": "markdown",
   "metadata": {
    "id": "vFa4bNTyDbzb"
   },
   "source": []
  },
  {
   "cell_type": "markdown",
   "metadata": {
    "id": "tujjevRpXEen"
   },
   "source": [
    "# Conclusions  \n",
    "\n",
    "After exploring your dataset, provide a short summary of what you noticed from this dataset.  "
   ]
  },
  {
   "cell_type": "markdown",
   "metadata": {
    "id": "SshtuQj9XR5_"
   },
   "source": [
    "### The Plots\n",
    "The difference in plotting between matplotlib and seaborn seem to be customization versus easiness. Matplotlib is not very intuitive, and the documentation is not very helpful. Specifically, the examples are very basic and few of them actually use dataframes. It felt dated. On the otherhand, Seaborn is much easier to use and to find documentation on. Since, graphing is not something I am strong at, I prefer to use something that is an intuitive and quick as possible.\n",
    "\n",
    "### The Data\n",
    "I found a few interesting bits of information. \n",
    "\n",
    "* California experiences so many more UFO sightings than any other state. Why?\n",
    "\n",
    "* Why is the south the only region that witnesses more triangle shaped UFOs?\n",
    "\n",
    "* The best time to try to experience a UFO sighting is between 8PM and 11PM."
   ]
  },
  {
   "cell_type": "code",
   "execution_count": null,
   "metadata": {},
   "outputs": [],
   "source": []
  }
 ],
 "metadata": {
  "colab": {
   "collapsed_sections": [],
   "provenance": [
    {
     "file_id": "1xtixhj3NuTCnn99h2wjMbbTJu9mhppbG",
     "timestamp": 1666612519069
    },
    {
     "file_id": "1C4dlwx40w-SuWLvEdZM2vmX8yVrL9UXC",
     "timestamp": 1649202866208
    }
   ]
  },
  "kernelspec": {
   "display_name": "Python 3 (ipykernel)",
   "language": "python",
   "name": "python3"
  },
  "language_info": {
   "codemirror_mode": {
    "name": "ipython",
    "version": 3
   },
   "file_extension": ".py",
   "mimetype": "text/x-python",
   "name": "python",
   "nbconvert_exporter": "python",
   "pygments_lexer": "ipython3",
   "version": "3.9.12"
  }
 },
 "nbformat": 4,
 "nbformat_minor": 1
}
